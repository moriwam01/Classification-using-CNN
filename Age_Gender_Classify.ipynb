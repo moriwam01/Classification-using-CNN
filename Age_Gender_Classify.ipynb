{
  "cells": [
    {
      "cell_type": "code",
      "source": [
        "import numpy as np\n",
        "import pandas as pd\n",
        "import seaborn as sns\n",
        "import matplotlib.pyplot as plt\n",
        "from google.colab import drive\n",
        "from sklearn.model_selection import train_test_split\n",
        "from tensorflow.keras.models import Sequential\n",
        "from tensorflow.keras.layers import Dense, Flatten, Conv1D, BatchNormalization, Dropout"
      ],
      "metadata": {
        "id": "JOcV3dEhEc-S"
      },
      "execution_count": null,
      "outputs": []
    },
    {
      "cell_type": "code",
      "source": [
        "# Mount Google Drive and load data\n",
        "drive.mount('/content/drive')\n",
        "path = \"/content/drive/MyDrive/Colab Notebooks/Datasets/age_gender.csv\"\n",
        "df = pd.read_csv(path)"
      ],
      "metadata": {
        "id": "e0d4LkPSEcxj"
      },
      "execution_count": null,
      "outputs": []
    },
    {
      "cell_type": "code",
      "source": [
        "# Data Preprocessing\n",
        "df['pixels'] = df['pixels'].apply(lambda x: np.array(x.split(), dtype=\"float32\"))\n",
        "X = np.array(df['pixels'].tolist())\n",
        "X = X.reshape(X.shape[0], 48, 48, 1)\n",
        "y = df['gender']"
      ],
      "metadata": {
        "id": "usDtLBDhEiz1"
      },
      "execution_count": null,
      "outputs": []
    },
    {
      "cell_type": "code",
      "source": [
        "# Train-test split\n",
        "X_train, X_test, y_train, y_test = train_test_split(X, y, test_size=0.2, random_state=42)"
      ],
      "metadata": {
        "id": "gntRtpWvEiwK"
      },
      "execution_count": null,
      "outputs": []
    },
    {
      "cell_type": "code",
      "source": [
        "# Model architecture\n",
        "model = Sequential()\n",
        "model.add(Conv1D(filters=32, kernel_size=2, activation='relu', input_shape=[48, 48, 1]))\n",
        "model.add(BatchNormalization())\n",
        "model.add(Dropout(0.2))\n",
        "model.add(Conv1D(filters=64, kernel_size=2, activation='relu'))\n",
        "model.add(BatchNormalization())\n",
        "model.add(Dropout(0.2))\n",
        "model.add(Flatten())\n",
        "model.add(Dense(64, activation='relu'))\n",
        "model.add(Dropout(0.5))\n",
        "model.add(Dense(1, activation='sigmoid'))  # Use 'sigmoid' activation for binary classification\n",
        "\n",
        "model.summary()"
      ],
      "metadata": {
        "id": "lDczcA4NEcp7"
      },
      "execution_count": null,
      "outputs": []
    },
    {
      "cell_type": "code",
      "execution_count": null,
      "metadata": {
        "colab": {
          "background_save": true,
          "base_uri": "https://localhost:8080/"
        },
        "id": "YVGIpqZBn126",
        "outputId": "797aa3ac-bc7c-46b9-945c-4cf09bfeecae"
      },
      "outputs": [
        {
          "name": "stdout",
          "output_type": "stream",
          "text": [
            "Mounted at /content/drive\n",
            "Model: \"sequential\"\n",
            "_________________________________________________________________\n",
            " Layer (type)                Output Shape              Param #   \n",
            "=================================================================\n",
            " conv1d (Conv1D)             (None, 48, 47, 32)        96        \n",
            "                                                                 \n",
            " batch_normalization (BatchN  (None, 48, 47, 32)       128       \n",
            " ormalization)                                                   \n",
            "                                                                 \n",
            " dropout (Dropout)           (None, 48, 47, 32)        0         \n",
            "                                                                 \n",
            " conv1d_1 (Conv1D)           (None, 48, 46, 64)        4160      \n",
            "                                                                 \n",
            " batch_normalization_1 (Batc  (None, 48, 46, 64)       256       \n",
            " hNormalization)                                                 \n",
            "                                                                 \n",
            " dropout_1 (Dropout)         (None, 48, 46, 64)        0         \n",
            "                                                                 \n",
            " flatten (Flatten)           (None, 141312)            0         \n",
            "                                                                 \n",
            " dense (Dense)               (None, 64)                9044032   \n",
            "                                                                 \n",
            " dropout_2 (Dropout)         (None, 64)                0         \n",
            "                                                                 \n",
            " dense_1 (Dense)             (None, 1)                 65        \n",
            "                                                                 \n",
            "=================================================================\n",
            "Total params: 9,048,737\n",
            "Trainable params: 9,048,545\n",
            "Non-trainable params: 192\n",
            "_________________________________________________________________\n",
            "Epoch 1/50\n",
            "593/593 [==============================] - 283s 473ms/step - loss: 0.8794 - accuracy: 0.7590 - val_loss: 0.3782 - val_accuracy: 0.8363\n",
            "Epoch 2/50\n",
            "593/593 [==============================] - 286s 483ms/step - loss: 0.3876 - accuracy: 0.8268 - val_loss: 0.3409 - val_accuracy: 0.8479\n",
            "Epoch 3/50\n",
            "593/593 [==============================] - 288s 485ms/step - loss: 0.3580 - accuracy: 0.8338 - val_loss: 0.3159 - val_accuracy: 0.8587\n",
            "Epoch 4/50\n",
            "593/593 [==============================] - 287s 484ms/step - loss: 0.3319 - accuracy: 0.8448 - val_loss: 0.3010 - val_accuracy: 0.8692\n",
            "Epoch 5/50\n",
            "593/593 [==============================] - 286s 482ms/step - loss: 0.3168 - accuracy: 0.8483 - val_loss: 0.3025 - val_accuracy: 0.8648\n",
            "Epoch 6/50\n",
            "593/593 [==============================] - 285s 481ms/step - loss: 0.3042 - accuracy: 0.8530 - val_loss: 0.3137 - val_accuracy: 0.8536\n",
            "Epoch 7/50\n",
            "593/593 [==============================] - 295s 498ms/step - loss: 0.2847 - accuracy: 0.8619 - val_loss: 0.3072 - val_accuracy: 0.8675\n",
            "Epoch 8/50\n",
            "593/593 [==============================] - 285s 480ms/step - loss: 0.2745 - accuracy: 0.8635 - val_loss: 0.3190 - val_accuracy: 0.8637\n",
            "Epoch 9/50\n",
            "593/593 [==============================] - 281s 474ms/step - loss: 0.2702 - accuracy: 0.8661 - val_loss: 0.3368 - val_accuracy: 0.8680\n",
            "Epoch 10/50\n",
            "593/593 [==============================] - 291s 491ms/step - loss: 0.2588 - accuracy: 0.8746 - val_loss: 0.3278 - val_accuracy: 0.8724\n",
            "Epoch 11/50\n",
            "593/593 [==============================] - 280s 472ms/step - loss: 0.2473 - accuracy: 0.8777 - val_loss: 0.3334 - val_accuracy: 0.8644\n",
            "Epoch 12/50\n",
            "593/593 [==============================] - 279s 471ms/step - loss: 0.2367 - accuracy: 0.8811 - val_loss: 0.3600 - val_accuracy: 0.8644\n",
            "Epoch 13/50\n",
            "593/593 [==============================] - 283s 476ms/step - loss: 0.2329 - accuracy: 0.8826 - val_loss: 0.3249 - val_accuracy: 0.8650\n",
            "Epoch 14/50\n",
            "593/593 [==============================] - 288s 485ms/step - loss: 0.2349 - accuracy: 0.8838 - val_loss: 0.3211 - val_accuracy: 0.8667\n",
            "Epoch 15/50\n",
            "593/593 [==============================] - 281s 474ms/step - loss: 0.2324 - accuracy: 0.8861 - val_loss: 0.4009 - val_accuracy: 0.8709\n",
            "Epoch 16/50\n",
            "593/593 [==============================] - 289s 487ms/step - loss: 0.2214 - accuracy: 0.8892 - val_loss: 0.3438 - val_accuracy: 0.8675\n",
            "Epoch 17/50\n",
            "593/593 [==============================] - 281s 474ms/step - loss: 0.2087 - accuracy: 0.8912 - val_loss: 0.3300 - val_accuracy: 0.8726\n",
            "Epoch 18/50\n",
            "593/593 [==============================] - 287s 484ms/step - loss: 0.2148 - accuracy: 0.8923 - val_loss: 0.3497 - val_accuracy: 0.8699\n",
            "Epoch 19/50\n",
            "593/593 [==============================] - 278s 469ms/step - loss: 0.1949 - accuracy: 0.8963 - val_loss: 0.3629 - val_accuracy: 0.8671\n",
            "Epoch 20/50\n",
            "593/593 [==============================] - 288s 485ms/step - loss: 0.1924 - accuracy: 0.9011 - val_loss: 0.3208 - val_accuracy: 0.8538\n",
            "Epoch 21/50\n",
            "593/593 [==============================] - 283s 478ms/step - loss: 0.2008 - accuracy: 0.8970 - val_loss: 0.3769 - val_accuracy: 0.8762\n",
            "Epoch 22/50\n",
            "593/593 [==============================] - 291s 490ms/step - loss: 0.1981 - accuracy: 0.8960 - val_loss: 0.3827 - val_accuracy: 0.8705\n",
            "Epoch 23/50\n",
            "593/593 [==============================] - 279s 470ms/step - loss: 0.1936 - accuracy: 0.9032 - val_loss: 0.4247 - val_accuracy: 0.8688\n",
            "Epoch 24/50\n",
            "593/593 [==============================] - 275s 463ms/step - loss: 0.1883 - accuracy: 0.9014 - val_loss: 0.3822 - val_accuracy: 0.8703\n",
            "Epoch 25/50\n",
            "593/593 [==============================] - 274s 463ms/step - loss: 0.1821 - accuracy: 0.9040 - val_loss: 0.3978 - val_accuracy: 0.8715\n",
            "Epoch 26/50\n",
            "593/593 [==============================] - 275s 464ms/step - loss: 0.1824 - accuracy: 0.9057 - val_loss: 0.4728 - val_accuracy: 0.8747\n",
            "Epoch 27/50\n",
            "593/593 [==============================] - 276s 464ms/step - loss: 0.1794 - accuracy: 0.9057 - val_loss: 0.3706 - val_accuracy: 0.8694\n",
            "Epoch 28/50\n",
            "593/593 [==============================] - 275s 464ms/step - loss: 0.1756 - accuracy: 0.9078 - val_loss: 0.4884 - val_accuracy: 0.8743\n",
            "Epoch 29/50\n",
            "593/593 [==============================] - 273s 461ms/step - loss: 0.1858 - accuracy: 0.9052 - val_loss: 0.7634 - val_accuracy: 0.8300\n",
            "Epoch 30/50\n",
            "593/593 [==============================] - 282s 476ms/step - loss: 0.1773 - accuracy: 0.9057 - val_loss: 0.5029 - val_accuracy: 0.8734\n",
            "Epoch 31/50\n",
            "593/593 [==============================] - 282s 476ms/step - loss: 0.1642 - accuracy: 0.9109 - val_loss: 0.4225 - val_accuracy: 0.8724\n",
            "Epoch 32/50\n",
            "374/593 [=================>............] - ETA: 1:40 - loss: 0.1601 - accuracy: 0.9154"
          ]
        }
      ],
      "source": [
        "# Compile the model\n",
        "model.compile(optimizer='adam', loss='binary_crossentropy', metrics=['accuracy'])\n",
        "\n",
        "# Fitting the model\n",
        "history = model.fit(X_train, y_train, epochs=5, batch_size=32, validation_data=(X_test, y_test))\n",
        "\n",
        "# Plotting the accuracy and loss curves\n",
        "plt.plot(history.history['accuracy'], label='train_accuracy')"
      ]
    },
    {
      "cell_type": "code",
      "execution_count": null,
      "metadata": {
        "colab": {
          "base_uri": "https://localhost:8080/"
        },
        "id": "n33eHJSTHv66",
        "outputId": "653f9949-810e-4739-f7f0-40c0f73c5694"
      },
      "outputs": [
        {
          "name": "stdout",
          "output_type": "stream",
          "text": [
            "Mounted at /content/drive\n"
          ]
        }
      ],
      "source": [
        "from google.colab import drive\n",
        "drive.mount('/content/drive')"
      ]
    },
    {
      "cell_type": "code",
      "execution_count": null,
      "metadata": {
        "id": "bBaVB13zn4hq"
      },
      "outputs": [],
      "source": [
        "plt.figure(figsize = (25, 5))\n",
        "sns.countplot(x='age', data = df)"
      ]
    },
    {
      "cell_type": "code",
      "execution_count": null,
      "metadata": {
        "id": "npFwbClkq1A5"
      },
      "outputs": [],
      "source": [
        "plt.plot(history.history['val_accuracy'], label='val_accuracy')\n",
        "plt.plot(history.history['loss'], label='train_loss')\n",
        "plt.plot(history.history['val_loss'], label='val_loss')\n",
        "plt.xlabel('Epoch')\n",
        "plt.ylabel('Metric')\n",
        "plt.legend(loc='lower right')\n",
        "plt.show()"
      ]
    },
    {
      "cell_type": "code",
      "execution_count": null,
      "metadata": {
        "id": "9nPiWBo_DR-d"
      },
      "outputs": [],
      "source": []
    }
  ],
  "metadata": {
    "colab": {
      "provenance": []
    },
    "kernelspec": {
      "display_name": "Python 3",
      "name": "python3"
    },
    "language_info": {
      "name": "python"
    }
  },
  "nbformat": 4,
  "nbformat_minor": 0
}